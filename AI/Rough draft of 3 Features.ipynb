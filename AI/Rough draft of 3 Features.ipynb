{
 "cells": [
  {
   "cell_type": "code",
   "execution_count": 1,
   "id": "3dd39ceb",
   "metadata": {},
   "outputs": [],
   "source": [
    "import tensorflow as tf\n",
    "\n",
    "data_gen = tf.keras.preprocessing.image.ImageDataGenerator(rescale=1./255, validation_split=0.2)"
   ]
  },
  {
   "cell_type": "code",
   "execution_count": 2,
   "id": "c2c3cae6",
   "metadata": {},
   "outputs": [
    {
     "name": "stdout",
     "output_type": "stream",
     "text": [
      "Found 2250 images belonging to 3 classes.\n",
      "Found 750 images belonging to 3 classes.\n"
     ]
    }
   ],
   "source": [
    "image_size = (235, 235)\n",
    "batch_size = 36\n",
    "\n",
    "train_gen = data_gen.flow_from_directory('train3', target_size=image_size, batch_size=batch_size) # class_mode default categorical\n",
    "test_gen = data_gen.flow_from_directory('test3', target_size=image_size, batch_size=batch_size)"
   ]
  },
  {
   "cell_type": "code",
   "execution_count": 3,
   "id": "e8fa2b2c",
   "metadata": {},
   "outputs": [
    {
     "name": "stdout",
     "output_type": "stream",
     "text": [
      "{'baklava': 0, 'carrot_cake': 1, 'cheesecake': 2}\n"
     ]
    }
   ],
   "source": [
    "print(train_gen.class_indices)"
   ]
  },
  {
   "cell_type": "markdown",
   "id": "29c196b3",
   "metadata": {},
   "source": [
    "### Using InceptionV3\n",
    "- best one compared to VGG16 and MobileNetV2"
   ]
  },
  {
   "cell_type": "code",
   "execution_count": 4,
   "id": "02a758b1",
   "metadata": {},
   "outputs": [],
   "source": [
    "image_shape = (235, 235, 3)"
   ]
  },
  {
   "cell_type": "code",
   "execution_count": 5,
   "id": "d8819bee",
   "metadata": {},
   "outputs": [],
   "source": [
    "inception_model = tf.keras.applications.InceptionV3(weights='imagenet', input_shape=image_shape, include_top=False) # include top freeze weights"
   ]
  },
  {
   "cell_type": "code",
   "execution_count": 6,
   "id": "041ff7a5",
   "metadata": {},
   "outputs": [],
   "source": [
    "inception_model.trainable=False # don't retrain weights - transfer"
   ]
  },
  {
   "cell_type": "markdown",
   "id": "62ac8618",
   "metadata": {},
   "source": [
    "### Model"
   ]
  },
  {
   "cell_type": "code",
   "execution_count": 7,
   "id": "60495488",
   "metadata": {},
   "outputs": [
    {
     "name": "stdout",
     "output_type": "stream",
     "text": [
      "Model: \"sequential\"\n",
      "_________________________________________________________________\n",
      "Layer (type)                 Output Shape              Param #   \n",
      "=================================================================\n",
      "inception_v3 (Functional)    (None, 6, 6, 2048)        21802784  \n",
      "_________________________________________________________________\n",
      "conv2d_94 (Conv2D)           (None, 4, 4, 32)          589856    \n",
      "_________________________________________________________________\n",
      "dropout (Dropout)            (None, 4, 4, 32)          0         \n",
      "_________________________________________________________________\n",
      "global_average_pooling2d (Gl (None, 32)                0         \n",
      "_________________________________________________________________\n",
      "dense (Dense)                (None, 3)                 99        \n",
      "=================================================================\n",
      "Total params: 22,392,739\n",
      "Trainable params: 589,955\n",
      "Non-trainable params: 21,802,784\n",
      "_________________________________________________________________\n"
     ]
    }
   ],
   "source": [
    "from tensorflow import keras\n",
    "from tensorflow.keras import layers\n",
    "from tensorflow.keras.models import Sequential\n",
    "from tensorflow.keras.layers import Dense, Activation, Dropout, Conv2D, MaxPool2D, GlobalAveragePooling2D\n",
    "\n",
    "modelIN = Sequential()\n",
    "modelIN.add(inception_model)\n",
    "modelIN.add(Conv2D(32, 3, activation='relu'))  #filters=32, strides=2, kernel_size=(5,5),\n",
    "modelIN.add(Dropout(0.2))\n",
    "modelIN.add(GlobalAveragePooling2D()) # avg output of feature map\n",
    "modelIN.add(Dense(3, activation='softmax'))\n",
    "\n",
    "modelIN.summary()"
   ]
  },
  {
   "cell_type": "code",
   "execution_count": 8,
   "id": "40812de7",
   "metadata": {},
   "outputs": [],
   "source": [
    "modelIN.compile(optimizer='adam', loss='categorical_crossentropy', metrics=['accuracy'])"
   ]
  },
  {
   "cell_type": "code",
   "execution_count": 10,
   "id": "b506968f",
   "metadata": {},
   "outputs": [],
   "source": [
    "from tensorflow.keras.callbacks import EarlyStopping, ModelCheckpoint\n",
    "earlystopping = EarlyStopping(min_delta=0.001, patience=3, restore_best_weights=True)\n",
    "checkpoint = ModelCheckpoint(filepath='model_inception.h5', verbose=1, save_best_only=True, save_weights_only=True)"
   ]
  },
  {
   "cell_type": "code",
   "execution_count": 11,
   "id": "ba3dea12",
   "metadata": {},
   "outputs": [
    {
     "name": "stdout",
     "output_type": "stream",
     "text": [
      "Epoch 1/30\n",
      "63/63 [==============================] - 110s 2s/step - loss: 1.3932 - accuracy: 0.4791 - val_loss: 0.8635 - val_accuracy: 0.5533\n",
      "\n",
      "Epoch 00001: val_loss improved from inf to 0.86347, saving model to model_inception.h5\n",
      "Epoch 2/30\n",
      "63/63 [==============================] - 57s 904ms/step - loss: 0.8076 - accuracy: 0.5729 - val_loss: 0.7334 - val_accuracy: 0.6227\n",
      "\n",
      "Epoch 00002: val_loss improved from 0.86347 to 0.73344, saving model to model_inception.h5\n",
      "Epoch 3/30\n",
      "63/63 [==============================] - 49s 782ms/step - loss: 0.6869 - accuracy: 0.6547 - val_loss: 0.6707 - val_accuracy: 0.7227\n",
      "\n",
      "Epoch 00003: val_loss improved from 0.73344 to 0.67068, saving model to model_inception.h5\n",
      "Epoch 4/30\n",
      "63/63 [==============================] - 49s 779ms/step - loss: 0.6117 - accuracy: 0.7560 - val_loss: 0.6621 - val_accuracy: 0.7733\n",
      "\n",
      "Epoch 00004: val_loss improved from 0.67068 to 0.66212, saving model to model_inception.h5\n",
      "Epoch 5/30\n",
      "63/63 [==============================] - 49s 786ms/step - loss: 0.5602 - accuracy: 0.8213 - val_loss: 0.6670 - val_accuracy: 0.7253\n",
      "\n",
      "Epoch 00005: val_loss did not improve from 0.66212\n",
      "Epoch 6/30\n",
      "63/63 [==============================] - 51s 806ms/step - loss: 0.5128 - accuracy: 0.8431 - val_loss: 0.6453 - val_accuracy: 0.7760\n",
      "\n",
      "Epoch 00006: val_loss improved from 0.66212 to 0.64531, saving model to model_inception.h5\n",
      "Epoch 7/30\n",
      "63/63 [==============================] - 50s 791ms/step - loss: 0.4732 - accuracy: 0.8684 - val_loss: 0.5456 - val_accuracy: 0.8240\n",
      "\n",
      "Epoch 00007: val_loss improved from 0.64531 to 0.54556, saving model to model_inception.h5\n",
      "Epoch 8/30\n",
      "63/63 [==============================] - 49s 781ms/step - loss: 0.4332 - accuracy: 0.8898 - val_loss: 0.5529 - val_accuracy: 0.8227\n",
      "\n",
      "Epoch 00008: val_loss did not improve from 0.54556\n",
      "Epoch 9/30\n",
      "63/63 [==============================] - 49s 780ms/step - loss: 0.3984 - accuracy: 0.8991 - val_loss: 0.5552 - val_accuracy: 0.8240\n",
      "\n",
      "Epoch 00009: val_loss did not improve from 0.54556\n",
      "Epoch 10/30\n",
      "63/63 [==============================] - 50s 794ms/step - loss: 0.3681 - accuracy: 0.9196 - val_loss: 0.5315 - val_accuracy: 0.8333\n",
      "\n",
      "Epoch 00010: val_loss improved from 0.54556 to 0.53152, saving model to model_inception.h5\n",
      "Epoch 11/30\n",
      "63/63 [==============================] - 50s 801ms/step - loss: 0.3422 - accuracy: 0.9249 - val_loss: 0.5173 - val_accuracy: 0.8373\n",
      "\n",
      "Epoch 00011: val_loss improved from 0.53152 to 0.51729, saving model to model_inception.h5\n",
      "Epoch 12/30\n",
      "63/63 [==============================] - 50s 798ms/step - loss: 0.3169 - accuracy: 0.9382 - val_loss: 0.5378 - val_accuracy: 0.8347\n",
      "\n",
      "Epoch 00012: val_loss did not improve from 0.51729\n",
      "Epoch 13/30\n",
      "63/63 [==============================] - 50s 791ms/step - loss: 0.2890 - accuracy: 0.9502 - val_loss: 0.5552 - val_accuracy: 0.8293\n",
      "\n",
      "Epoch 00013: val_loss did not improve from 0.51729\n",
      "Epoch 14/30\n",
      "63/63 [==============================] - 50s 800ms/step - loss: 0.2724 - accuracy: 0.9520 - val_loss: 0.5211 - val_accuracy: 0.8413\n",
      "\n",
      "Epoch 00014: val_loss did not improve from 0.51729\n",
      "Epoch 15/30\n",
      "63/63 [==============================] - 50s 790ms/step - loss: 0.2533 - accuracy: 0.9578 - val_loss: 0.5298 - val_accuracy: 0.8307\n",
      "\n",
      "Epoch 00015: val_loss did not improve from 0.51729\n",
      "Epoch 16/30\n",
      "63/63 [==============================] - 50s 792ms/step - loss: 0.2355 - accuracy: 0.9644 - val_loss: 0.4892 - val_accuracy: 0.8627\n",
      "\n",
      "Epoch 00016: val_loss improved from 0.51729 to 0.48921, saving model to model_inception.h5\n",
      "Epoch 17/30\n",
      "63/63 [==============================] - 47s 753ms/step - loss: 0.2197 - accuracy: 0.9684 - val_loss: 0.5144 - val_accuracy: 0.8413\n",
      "\n",
      "Epoch 00017: val_loss did not improve from 0.48921\n",
      "Epoch 18/30\n",
      "63/63 [==============================] - 47s 750ms/step - loss: 0.2340 - accuracy: 0.9564 - val_loss: 0.5757 - val_accuracy: 0.8453\n",
      "\n",
      "Epoch 00018: val_loss did not improve from 0.48921\n",
      "Epoch 19/30\n",
      "63/63 [==============================] - 50s 793ms/step - loss: 0.2196 - accuracy: 0.9596 - val_loss: 0.7011 - val_accuracy: 0.8147\n",
      "\n",
      "Epoch 00019: val_loss did not improve from 0.48921\n",
      "Epoch 20/30\n",
      "63/63 [==============================] - 48s 767ms/step - loss: 0.1893 - accuracy: 0.9724 - val_loss: 0.5352 - val_accuracy: 0.8520\n",
      "\n",
      "Epoch 00020: val_loss did not improve from 0.48921\n",
      "Epoch 21/30\n",
      "63/63 [==============================] - 47s 752ms/step - loss: 0.1703 - accuracy: 0.9778 - val_loss: 0.6094 - val_accuracy: 0.8347\n",
      "\n",
      "Epoch 00021: val_loss did not improve from 0.48921\n"
     ]
    }
   ],
   "source": [
    "historyIN = modelIN.fit(train_gen, validation_data=test_gen, epochs=30, verbose=1, callbacks=[checkpoint, earlystopping])"
   ]
  },
  {
   "cell_type": "markdown",
   "id": "a83de4bf",
   "metadata": {},
   "source": [
    "### Plot Accuracy and Loss"
   ]
  },
  {
   "cell_type": "code",
   "execution_count": 12,
   "id": "e4b43806",
   "metadata": {},
   "outputs": [
    {
     "data": {
      "text/plain": [
       "<AxesSubplot:>"
      ]
     },
     "execution_count": 12,
     "metadata": {},
     "output_type": "execute_result"
    },
    {
     "data": {
      "image/png": "[encoded data removed]",
      "text/plain": [
       "<Figure size 432x288 with 1 Axes>"
      ]
     },
     "metadata": {
      "needs_background": "light"
     },
     "output_type": "display_data"
    },
    {
     "data": {
      "image/png": "[encoded data removed]",
      "text/plain": [
       "<Figure size 432x288 with 1 Axes>"
      ]
     },
     "metadata": {
      "needs_background": "light"
     },
     "output_type": "display_data"
    }
   ],
   "source": [
    "import pandas as pd\n",
    "\n",
    "history_df = pd.DataFrame(historyIN.history)\n",
    "history_df.loc[:,['loss', 'val_loss']].plot()\n",
    "history_df.loc[:,['accuracy', 'val_accuracy']].plot()"
   ]
  },
  {
   "cell_type": "markdown",
   "id": "618d2dcf",
   "metadata": {},
   "source": [
    "### Save Model"
   ]
  },
  {
   "cell_type": "code",
   "execution_count": 14,
   "id": "2856ad44",
   "metadata": {},
   "outputs": [],
   "source": [
    "modelIN.save(\"models/modelIN_threefeatures.h5\")"
   ]
  },
  {
   "cell_type": "code",
   "execution_count": 20,
   "id": "dc989d65",
   "metadata": {},
   "outputs": [],
   "source": [
    "import os"
   ]
  },
  {
   "cell_type": "code",
   "execution_count": 22,
   "id": "4ee659e8",
   "metadata": {},
   "outputs": [
    {
     "name": "stdout",
     "output_type": "stream",
     "text": [
      "[WinError 2] The system cannot find the file specified: 'models'\n",
      "C:\\Users\\ariel\\OneDrive\\Anaconda\\Hackathons\\Hack the North\\calorme\\AI\\models\n",
      " Volume in drive C is evo-sys\n",
      " Volume Serial Number is 16BD-942A\n",
      "\n",
      " Directory of C:\\Users\\ariel\\OneDrive\\Anaconda\\Hackathons\\Hack the North\\calorme\\AI\\models\n",
      "\n",
      "2021-09-18  01:46 PM    <DIR>          .\n",
      "2021-09-18  01:46 PM    <DIR>          ..\n",
      "2021-09-18  01:46 PM        94,807,688 modelIN_threefeatures.h5\n",
      "               1 File(s)     94,807,688 bytes\n",
      "               2 Dir(s)  730,466,426,880 bytes free\n"
     ]
    }
   ],
   "source": [
    "%cd models\n",
    "%ls"
   ]
  },
  {
   "cell_type": "markdown",
   "id": "e802b29a",
   "metadata": {},
   "source": [
    "### Convert to tf lite"
   ]
  },
  {
   "cell_type": "code",
   "execution_count": 36,
   "id": "e0b8e006",
   "metadata": {},
   "outputs": [
    {
     "name": "stdout",
     "output_type": "stream",
     "text": [
      "INFO:tensorflow:Assets written to: C:\\Users\\ariel\\AppData\\Local\\Temp\\tmplf44hqqa\\assets\n"
     ]
    }
   ],
   "source": [
    "converter = tf.lite.TFLiteConverter.from_keras_model(modelIN)\n",
    "tflite_model = converter.convert()"
   ]
  },
  {
   "cell_type": "markdown",
   "id": "7a958863",
   "metadata": {},
   "source": [
    "### Save as tf lite model"
   ]
  },
  {
   "cell_type": "code",
   "execution_count": 37,
   "id": "59e52f8b",
   "metadata": {},
   "outputs": [],
   "source": [
    "with open('modelIN_threefeatures.tflite', 'wb') as f:\n",
    "  f.write(tflite_model)"
   ]
  },
  {
   "cell_type": "code",
   "execution_count": null,
   "id": "d6fd57da",
   "metadata": {},
   "outputs": [],
   "source": []
  }
 ],
 "metadata": {
  "kernelspec": {
   "display_name": "Python 3",
   "language": "python",
   "name": "python3"
  },
  "language_info": {
   "codemirror_mode": {
    "name": "ipython",
    "version": 3
   },
   "file_extension": ".py",
   "mimetype": "text/x-python",
   "name": "python",
   "nbconvert_exporter": "python",
   "pygments_lexer": "ipython3",
   "version": "3.8.8"
  }
 },
 "nbformat": 4,
 "nbformat_minor": 5
}
